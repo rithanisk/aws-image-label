{
 "cells": [
  {
   "cell_type": "code",
   "execution_count": 3,
   "id": "79da5edb-5f62-4803-900e-50d12fe2779a",
   "metadata": {},
   "outputs": [],
   "source": [
    "import boto3\n",
    "import matplotlib"
   ]
  },
  {
   "cell_type": "code",
   "execution_count": 7,
   "id": "5137402c-5c9d-488a-93e5-cc6b34495291",
   "metadata": {},
   "outputs": [],
   "source": [
    "s3_client = boto3.client('s3')\n",
    "rekognition_client = boto3.client('rekognition')"
   ]
  },
  {
   "cell_type": "code",
   "execution_count": null,
   "id": "3a3e2be3-8b77-45c1-a1e8-147312759fee",
   "metadata": {},
   "outputs": [],
   "source": []
  }
 ],
 "metadata": {
  "kernelspec": {
   "display_name": "Python 3 (ipykernel)",
   "language": "python",
   "name": "python3"
  },
  "language_info": {
   "codemirror_mode": {
    "name": "ipython",
    "version": 3
   },
   "file_extension": ".py",
   "mimetype": "text/x-python",
   "name": "python",
   "nbconvert_exporter": "python",
   "pygments_lexer": "ipython3",
   "version": "3.12.4"
  }
 },
 "nbformat": 4,
 "nbformat_minor": 5
}
