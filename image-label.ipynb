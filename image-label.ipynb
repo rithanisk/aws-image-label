{
 "cells": [
  {
   "cell_type": "code",
   "execution_count": 6,
   "id": "79da5edb-5f62-4803-900e-50d12fe2779a",
   "metadata": {},
   "outputs": [],
   "source": [
    "import boto3\n",
    "import matplotlib"
   ]
  },
  {
   "cell_type": "code",
   "execution_count": 8,
   "id": "5137402c-5c9d-488a-93e5-cc6b34495291",
   "metadata": {},
   "outputs": [],
   "source": [
    "s3_client = boto3.client('s3')\n",
    "rekognition_client = boto3.client('rekognition')"
   ]
  },
  {
   "cell_type": "code",
   "execution_count": 10,
   "id": "3a3e2be3-8b77-45c1-a1e8-147312759fee",
   "metadata": {},
   "outputs": [],
   "source": [
    "bucket_name = \"imagerepository-25-sept-2024\"\n",
    "image_path = \"./cat.jpeg\"\n",
    "s3_object_name = \"cat.jpeg\""
   ]
  },
  {
   "cell_type": "code",
   "execution_count": 12,
   "id": "eee54dc0-fa0c-4d92-ab95-d8a6f8623028",
   "metadata": {},
   "outputs": [
    {
     "name": "stdout",
     "output_type": "stream",
     "text": [
      "Uploaded file to bucket!\n"
     ]
    }
   ],
   "source": [
    "#upload image to s3 bucket\n",
    "s3_client.upload_file(image_path, bucket_name, s3_object_name)\n",
    "print(\"Uploaded file to bucket!\")"
   ]
  },
  {
   "cell_type": "code",
   "execution_count": null,
   "id": "b111462d-00a9-4691-9078-c2471f08dad3",
   "metadata": {},
   "outputs": [],
   "source": []
  }
 ],
 "metadata": {
  "kernelspec": {
   "display_name": "Python 3 (ipykernel)",
   "language": "python",
   "name": "python3"
  },
  "language_info": {
   "codemirror_mode": {
    "name": "ipython",
    "version": 3
   },
   "file_extension": ".py",
   "mimetype": "text/x-python",
   "name": "python",
   "nbconvert_exporter": "python",
   "pygments_lexer": "ipython3",
   "version": "3.12.4"
  }
 },
 "nbformat": 4,
 "nbformat_minor": 5
}
